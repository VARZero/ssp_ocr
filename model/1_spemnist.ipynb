{
 "cells": [
  {
   "cell_type": "code",
   "execution_count": null,
   "metadata": {},
   "outputs": [],
   "source": [
    "import tensorflow as tf\n",
    "import tensorflow_datasets as tfds"
   ]
  },
  {
   "cell_type": "markdown",
   "metadata": {},
   "source": [
    "데이터 셋 로드 (TFDS에서 가져온 EMNIST)"
   ]
  },
  {
   "cell_type": "code",
   "execution_count": null,
   "metadata": {},
   "outputs": [],
   "source": [
    "(etfds_train, etfds_test), etfds_info = tfds.load(\"emnist\", split=['train', 'test'], shuffle_files=True, as_supervised=True, with_info=True)\n",
    "print(etfds_info)\n",
    "\n",
    "def normalize_img_ascii_lable(image, label):\n",
    "    ascii_Lb = label\n",
    "    if ascii_Lb >= 10:\n",
    "        ascii_Lb += 8\n",
    "    elif ascii_Lb >= 43:\n",
    "        ascii_Lb += 6\n",
    "    ascii_Lb += 15\n",
    "    return tf.cast(image, tf.float32) / 255., ascii_Lb\n",
    "\n",
    "etfds_train = etfds_train.map(normalize_img_ascii_lable, num_parallel_calls=tf.data.experimental.AUTOTUNE)\n",
    "etfds_train = etfds_train.cache()\n",
    "etfds_train = etfds_train.shuffle(etfds_info.splits['train'].num_examples)\n",
    "etfds_train = etfds_train.batch(128)\n",
    "etfds_train = etfds_train.prefetch(tf.data.experimental.AUTOTUNE)\n",
    "\n",
    "etfds_test = etfds_test.map(normalize_img_ascii_lable, num_parallel_calls=tf.data.experimental.AUTOTUNE)\n",
    "etfds_test = etfds_test.batch(128)\n",
    "etfds_test = etfds_test.cache()\n",
    "etfds_test = etfds_test.prefetch(tf.data.experimental.AUTOTUNE)"
   ]
  },
  {
   "cell_type": "markdown",
   "metadata": {},
   "source": [
    "직접 만든 데이터 셋 로드"
   ]
  },
  {
   "cell_type": "code",
   "execution_count": null,
   "metadata": {},
   "outputs": [],
   "source": [
    "datasetImgs = tf.data.Dataset.list_files('dataset/')\n",
    "\n",
    "for f in datasetImgs.take(95):\n",
    "    print(f.numpy())\n",
    "\n",
    "def set_mydataset_img_label(imgNum, label):\n",
    "    "
   ]
  },
  {
   "cell_type": "code",
   "execution_count": null,
   "metadata": {},
   "outputs": [],
   "source": [
    "#datasetImgs = tf.keras.preprocessing.image.ImageDataGenerator(rescale=1/255., validation_split=0.1)\n",
    "#trainFG = datasetImgs.flow_from_directory(directory=\"../dataset/\", target_size=(28,28), batch_size=10, class_mode='sparse', subset='training', shuffle=True, color_mode='grayscale')\n",
    "#testFG = datasetImgs.flow_from_directory(directory=\"../dataset/\", target_size=(28,28), batch_size=10, class_mode='sparse', subset='validation', shuffle=True, color_mode='grayscale')\n",
    "\n",
    "#print(trainFG.classes)\n",
    "\n",
    "#print(trainFG)"
   ]
  },
  {
   "cell_type": "markdown",
   "metadata": {},
   "source": [
    "모델 세팅"
   ]
  },
  {
   "cell_type": "code",
   "execution_count": null,
   "metadata": {},
   "outputs": [],
   "source": [
    "model = tf.keras.models.Sequential([\n",
    "    tf.keras.layers.Flatten(input_shape=(28,28)),\n",
    "    tf.keras.layers.Dense(512, activation='relu'),\n",
    "    tf.keras.layers.Dropout(0.2),\n",
    "    tf.keras.layers.Dense(95, activation='softmax')\n",
    "])\n",
    "\n",
    "model.compile(optimizer='adam',\n",
    "              loss='sparse_categorical_crossentropy',\n",
    "              metrics=['accuracy'])\n",
    "\n",
    "model.summary()"
   ]
  },
  {
   "cell_type": "markdown",
   "metadata": {},
   "source": [
    "훈련시키기"
   ]
  },
  {
   "cell_type": "code",
   "execution_count": null,
   "metadata": {},
   "outputs": [],
   "source": [
    "model.fit(trainFG, epochs=5)\n",
    "model.fit(etfds_train, epochs=5)\n"
   ]
  },
  {
   "cell_type": "markdown",
   "metadata": {},
   "source": [
    "모델 저장하기"
   ]
  },
  {
   "cell_type": "code",
   "execution_count": null,
   "metadata": {},
   "outputs": [],
   "source": [
    "model.save('spemnist.h5')"
   ]
  },
  {
   "cell_type": "markdown",
   "metadata": {},
   "source": [
    "확인하기"
   ]
  },
  {
   "cell_type": "code",
   "execution_count": null,
   "metadata": {},
   "outputs": [],
   "source": [
    "model.evaluate(etfds_test, verbose=2)\n",
    "model.evaluate(testFG, verbose=2)"
   ]
  }
 ],
 "metadata": {
  "kernelspec": {
   "display_name": "Python 3",
   "language": "python",
   "name": "python3"
  },
  "language_info": {
   "codemirror_mode": {
    "name": "ipython",
    "version": 3
   },
   "file_extension": ".py",
   "mimetype": "text/x-python",
   "name": "python",
   "nbconvert_exporter": "python",
   "pygments_lexer": "ipython3",
   "version": "3.11.4"
  },
  "orig_nbformat": 4
 },
 "nbformat": 4,
 "nbformat_minor": 2
}
