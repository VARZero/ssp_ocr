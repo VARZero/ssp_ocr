{
 "cells": [
  {
   "cell_type": "code",
   "execution_count": 66,
   "metadata": {},
   "outputs": [],
   "source": [
    "import tensorflow as tf\n",
    "import tensorflow_datasets as tfds\n",
    "\n",
    "tf.debugging.set_log_device_placement(True)"
   ]
  },
  {
   "cell_type": "code",
   "execution_count": 67,
   "metadata": {},
   "outputs": [
    {
     "name": "stdout",
     "output_type": "stream",
     "text": [
      "[name: \"/device:CPU:0\"\n",
      "device_type: \"CPU\"\n",
      "memory_limit: 268435456\n",
      "locality {\n",
      "}\n",
      "incarnation: 12830079897850581952\n",
      "xla_global_id: -1\n",
      "]\n"
     ]
    }
   ],
   "source": [
    "from tensorflow.python.client import device_lib\n",
    "print(device_lib.list_local_devices())"
   ]
  },
  {
   "cell_type": "markdown",
   "metadata": {},
   "source": [
    "데이터 셋 로드 (TFDS에서 가져온 EMNIST)"
   ]
  },
  {
   "cell_type": "code",
   "execution_count": 68,
   "metadata": {},
   "outputs": [
    {
     "name": "stdout",
     "output_type": "stream",
     "text": [
      "tfds.core.DatasetInfo(\n",
      "    name='emnist',\n",
      "    full_name='emnist/byclass/3.0.0',\n",
      "    description=\"\"\"\n",
      "    The EMNIST dataset is a set of handwritten character digits derived from the NIST Special Database 19 and converted to a 28x28 pixel image format and dataset structure that directly matches the MNIST dataset.\n",
      "    \n",
      "    Note: Like the original EMNIST data, images provided here are inverted horizontally and rotated 90 anti-clockwise. You can use `tf.transpose` within `ds.map` to convert the images to a human-friendlier format.\n",
      "    \"\"\",\n",
      "    config_description=\"\"\"\n",
      "    EMNIST ByClass\n",
      "    \"\"\",\n",
      "    homepage='https://www.nist.gov/itl/products-and-services/emnist-dataset',\n",
      "    data_path='C:\\\\Users\\\\Administrator\\\\tensorflow_datasets\\\\emnist\\\\byclass\\\\3.0.0',\n",
      "    file_format=tfrecord,\n",
      "    download_size=535.73 MiB,\n",
      "    dataset_size=349.16 MiB,\n",
      "    features=FeaturesDict({\n",
      "        'image': Image(shape=(28, 28, 1), dtype=uint8),\n",
      "        'label': ClassLabel(shape=(), dtype=int64, num_classes=62),\n",
      "    }),\n",
      "    supervised_keys=('image', 'label'),\n",
      "    disable_shuffling=False,\n",
      "    splits={\n",
      "        'test': <SplitInfo num_examples=116323, num_shards=1>,\n",
      "        'train': <SplitInfo num_examples=697932, num_shards=4>,\n",
      "    },\n",
      "    citation=\"\"\"@article{cohen_afshar_tapson_schaik_2017,\n",
      "        title={EMNIST: Extending MNIST to handwritten letters},\n",
      "        DOI={10.1109/ijcnn.2017.7966217},\n",
      "        journal={2017 International Joint Conference on Neural Networks (IJCNN)},\n",
      "        author={Cohen, Gregory and Afshar, Saeed and Tapson, Jonathan and Schaik, Andre Van},\n",
      "        year={2017}\n",
      "    }\"\"\",\n",
      ")\n",
      "<_PrefetchDataset element_spec=(TensorSpec(shape=(28, 28, 1), dtype=tf.uint8, name=None), TensorSpec(shape=(), dtype=tf.int64, name=None))>\n",
      "<_PrefetchDataset element_spec=(TensorSpec(shape=(None, 28, 28, 1), dtype=tf.float32, name=None), TensorSpec(shape=(None,), dtype=tf.int64, name=None))>\n"
     ]
    }
   ],
   "source": [
    "(etfds_train, etfds_test), etfds_info = tfds.load(\"emnist\", split=['train', 'test'], shuffle_files=True, as_supervised=True, with_info=True)\n",
    "print(etfds_info)\n",
    "print(etfds_train)\n",
    "\n",
    "def normalize_img_ascii_lable(image, label):\n",
    "    ascii_Lb = label\n",
    "    if ascii_Lb >= 10:\n",
    "        ascii_Lb += 8\n",
    "    elif ascii_Lb >= 43:\n",
    "        ascii_Lb += 6\n",
    "    ascii_Lb += 15\n",
    "    return tf.cast(image, tf.float32) / 255., ascii_Lb\n",
    "\n",
    "etfds_train = etfds_train.map(normalize_img_ascii_lable, num_parallel_calls=tf.data.experimental.AUTOTUNE)\n",
    "etfds_train = etfds_train.cache()\n",
    "etfds_train = etfds_train.shuffle(etfds_info.splits['train'].num_examples)\n",
    "etfds_train = etfds_train.batch(128)\n",
    "etfds_train = etfds_train.prefetch(tf.data.experimental.AUTOTUNE)\n",
    "print(etfds_train)\n",
    "\n",
    "etfds_test = etfds_test.map(normalize_img_ascii_lable, num_parallel_calls=tf.data.experimental.AUTOTUNE)\n",
    "etfds_test = etfds_test.batch(128)\n",
    "etfds_test = etfds_test.cache()\n",
    "etfds_test = etfds_test.prefetch(tf.data.experimental.AUTOTUNE)"
   ]
  },
  {
   "cell_type": "markdown",
   "metadata": {},
   "source": [
    "직접 만든 데이터 셋 로드"
   ]
  },
  {
   "cell_type": "code",
   "execution_count": 69,
   "metadata": {},
   "outputs": [
    {
     "name": "stdout",
     "output_type": "stream",
     "text": [
      "Found 1520 files belonging to 95 classes.\n",
      "Using 1216 files for training.\n",
      "Found 1520 files belonging to 95 classes.\n",
      "Using 304 files for validation.\n",
      "<_PrefetchDataset element_spec=(TensorSpec(shape=(None, 28, 28, 1), dtype=tf.float32, name=None), TensorSpec(shape=(None,), dtype=tf.int64, name=None))>\n"
     ]
    }
   ],
   "source": [
    "import pathlib\n",
    "\n",
    "data_dir = pathlib.Path('..\\dataset')\n",
    "\n",
    "trainFG = tf.keras.preprocessing.image_dataset_from_directory(\n",
    "    data_dir,\n",
    "    validation_split=0.2,\n",
    "    subset='training',\n",
    "    seed=123,\n",
    "    image_size=(28,28),\n",
    "    batch_size=16,\n",
    "    label_mode='int',\n",
    "    color_mode=\"grayscale\"\n",
    ")\n",
    "\n",
    "\n",
    "\n",
    "testFG = tf.keras.preprocessing.image_dataset_from_directory(\n",
    "    data_dir,\n",
    "    validation_split=0.2,\n",
    "    subset='validation',\n",
    "    seed=123,\n",
    "    image_size=(28,28),\n",
    "    batch_size=16,\n",
    "    label_mode='int',\n",
    "    color_mode=\"grayscale\"\n",
    ")\n",
    "\n",
    "def normalize_myimg_ascii_lable(image, label):\n",
    "    return tf.cast(image, tf.float32) / 255., tf.cast(int(label), dtype=tf.int64)\n",
    "\n",
    "trainFG = trainFG.map(normalize_myimg_ascii_lable, num_parallel_calls=tf.data.experimental.AUTOTUNE)\n",
    "trainFG = trainFG.cache()\n",
    "trainFG = trainFG.prefetch(tf.data.experimental.AUTOTUNE)\n",
    "print(trainFG)\n",
    "\n",
    "testFG = testFG.map(normalize_myimg_ascii_lable, num_parallel_calls=tf.data.experimental.AUTOTUNE)\n",
    "testFG = testFG.cache()\n",
    "testFG = testFG.prefetch(tf.data.experimental.AUTOTUNE)\n"
   ]
  },
  {
   "cell_type": "markdown",
   "metadata": {},
   "source": [
    "모델 세팅"
   ]
  },
  {
   "cell_type": "code",
   "execution_count": 70,
   "metadata": {},
   "outputs": [
    {
     "name": "stdout",
     "output_type": "stream",
     "text": [
      "Model: \"sequential_9\"\n",
      "_________________________________________________________________\n",
      " Layer (type)                Output Shape              Param #   \n",
      "=================================================================\n",
      " flatten_9 (Flatten)         (None, 784)               0         \n",
      "                                                                 \n",
      " dense_18 (Dense)            (None, 512)               401920    \n",
      "                                                                 \n",
      " dropout_9 (Dropout)         (None, 512)               0         \n",
      "                                                                 \n",
      " dense_19 (Dense)            (None, 95)                48735     \n",
      "                                                                 \n",
      "=================================================================\n",
      "Total params: 450655 (1.72 MB)\n",
      "Trainable params: 450655 (1.72 MB)\n",
      "Non-trainable params: 0 (0.00 Byte)\n",
      "_________________________________________________________________\n"
     ]
    }
   ],
   "source": [
    "model = tf.keras.models.Sequential([\n",
    "    tf.keras.layers.Flatten(input_shape=(28,28)),\n",
    "    tf.keras.layers.Dense(512, activation='relu'),\n",
    "    tf.keras.layers.Dropout(0.2),\n",
    "    tf.keras.layers.Dense(95, activation='softmax')\n",
    "])\n",
    "\n",
    "model.compile(optimizer='adam',\n",
    "              loss='sparse_categorical_crossentropy',\n",
    "              metrics=['accuracy'])\n",
    "\n",
    "model.summary()"
   ]
  },
  {
   "cell_type": "markdown",
   "metadata": {},
   "source": [
    "훈련시키기"
   ]
  },
  {
   "cell_type": "code",
   "execution_count": 71,
   "metadata": {},
   "outputs": [
    {
     "name": "stdout",
     "output_type": "stream",
     "text": [
      "Epoch 1/3\n",
      "5453/5453 [==============================] - 300s 52ms/step - loss: 0.6863 - accuracy: 0.7854\n",
      "Epoch 2/3\n",
      "5453/5453 [==============================] - 270s 49ms/step - loss: 0.5132 - accuracy: 0.8262\n",
      "Epoch 3/3\n",
      "5453/5453 [==============================] - 269s 49ms/step - loss: 0.4847 - accuracy: 0.8329\n",
      "Epoch 1/25\n",
      "76/76 [==============================] - 2s 25ms/step - loss: 5.4204 - accuracy: 0.0641\n",
      "Epoch 2/25\n",
      "76/76 [==============================] - 2s 23ms/step - loss: 2.4067 - accuracy: 0.4770\n",
      "Epoch 3/25\n",
      "76/76 [==============================] - 2s 23ms/step - loss: 1.2463 - accuracy: 0.7426\n",
      "Epoch 4/25\n",
      "76/76 [==============================] - 2s 23ms/step - loss: 0.6875 - accuracy: 0.8709\n",
      "Epoch 5/25\n",
      "76/76 [==============================] - 2s 23ms/step - loss: 0.3969 - accuracy: 0.9375\n",
      "Epoch 6/25\n",
      "76/76 [==============================] - 2s 23ms/step - loss: 0.2667 - accuracy: 0.9729\n",
      "Epoch 7/25\n",
      "76/76 [==============================] - 2s 23ms/step - loss: 0.1804 - accuracy: 0.9860\n",
      "Epoch 8/25\n",
      "76/76 [==============================] - 2s 23ms/step - loss: 0.1355 - accuracy: 0.9893\n",
      "Epoch 9/25\n",
      "76/76 [==============================] - 2s 23ms/step - loss: 0.1089 - accuracy: 0.9934\n",
      "Epoch 10/25\n",
      "76/76 [==============================] - 2s 23ms/step - loss: 0.0798 - accuracy: 0.9984\n",
      "Epoch 11/25\n",
      "76/76 [==============================] - 2s 23ms/step - loss: 0.0693 - accuracy: 0.9967\n",
      "Epoch 12/25\n",
      "76/76 [==============================] - 2s 23ms/step - loss: 0.0562 - accuracy: 0.9992\n",
      "Epoch 13/25\n",
      "76/76 [==============================] - 2s 23ms/step - loss: 0.0520 - accuracy: 0.9984\n",
      "Epoch 14/25\n",
      "76/76 [==============================] - 2s 23ms/step - loss: 0.0407 - accuracy: 0.9984\n",
      "Epoch 15/25\n",
      "76/76 [==============================] - 2s 24ms/step - loss: 0.0429 - accuracy: 0.9984\n",
      "Epoch 16/25\n",
      "76/76 [==============================] - 2s 23ms/step - loss: 0.0310 - accuracy: 0.9992\n",
      "Epoch 17/25\n",
      "76/76 [==============================] - 2s 24ms/step - loss: 0.0293 - accuracy: 0.9975\n",
      "Epoch 18/25\n",
      "76/76 [==============================] - 2s 23ms/step - loss: 0.0283 - accuracy: 0.9992\n",
      "Epoch 19/25\n",
      "76/76 [==============================] - 2s 23ms/step - loss: 0.0250 - accuracy: 1.0000\n",
      "Epoch 20/25\n",
      "76/76 [==============================] - 2s 23ms/step - loss: 0.0246 - accuracy: 0.9984\n",
      "Epoch 21/25\n",
      "76/76 [==============================] - 2s 23ms/step - loss: 0.0248 - accuracy: 0.9992\n",
      "Epoch 22/25\n",
      "76/76 [==============================] - 2s 23ms/step - loss: 0.0211 - accuracy: 0.9984\n",
      "Epoch 23/25\n",
      "76/76 [==============================] - 2s 24ms/step - loss: 0.0180 - accuracy: 0.9992\n",
      "Epoch 24/25\n",
      "76/76 [==============================] - 2s 23ms/step - loss: 0.0175 - accuracy: 0.9992\n",
      "Epoch 25/25\n",
      "76/76 [==============================] - 2s 23ms/step - loss: 0.0177 - accuracy: 1.0000\n"
     ]
    },
    {
     "data": {
      "text/plain": [
       "<keras.src.callbacks.History at 0x1a61aa76210>"
      ]
     },
     "execution_count": 71,
     "metadata": {},
     "output_type": "execute_result"
    }
   ],
   "source": [
    "model.fit(etfds_train, epochs=3)\n",
    "model.fit(trainFG, epochs=25)"
   ]
  },
  {
   "cell_type": "markdown",
   "metadata": {},
   "source": [
    "모델 저장하기"
   ]
  },
  {
   "cell_type": "code",
   "execution_count": 72,
   "metadata": {},
   "outputs": [],
   "source": [
    "model.save('spemnist.h5')"
   ]
  },
  {
   "cell_type": "markdown",
   "metadata": {},
   "source": [
    "확인하기"
   ]
  },
  {
   "cell_type": "code",
   "execution_count": 73,
   "metadata": {},
   "outputs": [
    {
     "name": "stdout",
     "output_type": "stream",
     "text": [
      "19/19 - 0s - loss: 2.3641 - accuracy: 0.4868 - 368ms/epoch - 19ms/step\n"
     ]
    },
    {
     "data": {
      "text/plain": [
       "[2.3641421794891357, 0.4868420958518982]"
      ]
     },
     "execution_count": 73,
     "metadata": {},
     "output_type": "execute_result"
    }
   ],
   "source": [
    "#model.evaluate(etfds_test, verbose=2)\n",
    "model.evaluate(testFG, verbose=2)"
   ]
  }
 ],
 "metadata": {
  "kernelspec": {
   "display_name": "Python 3",
   "language": "python",
   "name": "python3"
  },
  "language_info": {
   "codemirror_mode": {
    "name": "ipython",
    "version": 3
   },
   "file_extension": ".py",
   "mimetype": "text/x-python",
   "name": "python",
   "nbconvert_exporter": "python",
   "pygments_lexer": "ipython3",
   "version": "3.11.4"
  },
  "orig_nbformat": 4
 },
 "nbformat": 4,
 "nbformat_minor": 2
}
