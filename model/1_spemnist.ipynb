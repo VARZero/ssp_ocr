{
 "cells": [
  {
   "cell_type": "code",
   "execution_count": 40,
   "metadata": {},
   "outputs": [],
   "source": [
    "import tensorflow as tf\n",
    "import tensorflow_datasets as tfds"
   ]
  },
  {
   "cell_type": "markdown",
   "metadata": {},
   "source": [
    "데이터 셋 로드 (TFDS에서 가져온 EMNIST)"
   ]
  },
  {
   "cell_type": "code",
   "execution_count": 41,
   "metadata": {},
   "outputs": [
    {
     "name": "stdout",
     "output_type": "stream",
     "text": [
      "tfds.core.DatasetInfo(\n",
      "    name='emnist',\n",
      "    full_name='emnist/byclass/3.0.0',\n",
      "    description=\"\"\"\n",
      "    The EMNIST dataset is a set of handwritten character digits derived from the NIST Special Database 19 and converted to a 28x28 pixel image format and dataset structure that directly matches the MNIST dataset.\n",
      "    \n",
      "    Note: Like the original EMNIST data, images provided here are inverted horizontally and rotated 90 anti-clockwise. You can use `tf.transpose` within `ds.map` to convert the images to a human-friendlier format.\n",
      "    \"\"\",\n",
      "    config_description=\"\"\"\n",
      "    EMNIST ByClass\n",
      "    \"\"\",\n",
      "    homepage='https://www.nist.gov/itl/products-and-services/emnist-dataset',\n",
      "    data_path='/Users/varzero/tensorflow_datasets/emnist/byclass/3.0.0',\n",
      "    file_format=tfrecord,\n",
      "    download_size=535.73 MiB,\n",
      "    dataset_size=349.16 MiB,\n",
      "    features=FeaturesDict({\n",
      "        'image': Image(shape=(28, 28, 1), dtype=uint8),\n",
      "        'label': ClassLabel(shape=(), dtype=int64, num_classes=62),\n",
      "    }),\n",
      "    supervised_keys=('image', 'label'),\n",
      "    disable_shuffling=False,\n",
      "    splits={\n",
      "        'test': <SplitInfo num_examples=116323, num_shards=1>,\n",
      "        'train': <SplitInfo num_examples=697932, num_shards=4>,\n",
      "    },\n",
      "    citation=\"\"\"@article{cohen_afshar_tapson_schaik_2017,\n",
      "        title={EMNIST: Extending MNIST to handwritten letters},\n",
      "        DOI={10.1109/ijcnn.2017.7966217},\n",
      "        journal={2017 International Joint Conference on Neural Networks (IJCNN)},\n",
      "        author={Cohen, Gregory and Afshar, Saeed and Tapson, Jonathan and Schaik, Andre Van},\n",
      "        year={2017}\n",
      "    }\"\"\",\n",
      ")\n"
     ]
    }
   ],
   "source": [
    "(etfds_train, etfds_test), etfds_info = tfds.load(\"emnist\", split=['train', 'test'], shuffle_files=True, as_supervised=True, with_info=True)\n",
    "print(etfds_info)\n",
    "\n",
    "def normalize_img_ascii_lable(image, label):\n",
    "    ascii_Lb = label\n",
    "    if ascii_Lb >= 10:\n",
    "        ascii_Lb += 8\n",
    "    if ascii_Lb >= 43:\n",
    "        ascii_Lb += 6\n",
    "    ascii_Lb += 15\n",
    "    return tf.cast(image, tf.float32) / 255., ascii_Lb\n",
    "\n",
    "etfds_train = etfds_train.map(normalize_img_ascii_lable, num_parallel_calls=tf.data.experimental.AUTOTUNE)\n",
    "etfds_train = etfds_train.cache()\n",
    "etfds_train = etfds_train.shuffle(etfds_info.splits['train'].num_examples)\n",
    "etfds_train = etfds_train.batch(128)\n",
    "etfds_train = etfds_train.prefetch(tf.data.experimental.AUTOTUNE)\n",
    "\n",
    "etfds_test = etfds_test.map(normalize_img_ascii_lable, num_parallel_calls=tf.data.experimental.AUTOTUNE)\n",
    "etfds_test = etfds_test.batch(128)\n",
    "etfds_test = etfds_test.cache()\n",
    "etfds_test = etfds_test.prefetch(tf.data.experimental.AUTOTUNE)"
   ]
  },
  {
   "cell_type": "markdown",
   "metadata": {},
   "source": [
    "직접 만든 데이터 셋 로드"
   ]
  },
  {
   "cell_type": "code",
   "execution_count": 42,
   "metadata": {},
   "outputs": [
    {
     "name": "stdout",
     "output_type": "stream",
     "text": [
      "Found 1425 images belonging to 95 classes.\n",
      "Found 95 images belonging to 95 classes.\n",
      "<keras.preprocessing.image.DirectoryIterator object at 0x15a981c10>\n"
     ]
    }
   ],
   "source": [
    "datasetImgs = tf.keras.preprocessing.image.ImageDataGenerator(rescale=1/255., validation_split=0.1)\n",
    "trainFG = datasetImgs.flow_from_directory(directory=\"../dataset/\", target_size=(28,28), batch_size=10, class_mode='binary', subset='training', shuffle=True, color_mode='grayscale')\n",
    "testFG = datasetImgs.flow_from_directory(directory=\"../dataset/\", target_size=(28,28), batch_size=10, class_mode='binary', subset='validation', shuffle=True, color_mode='grayscale')\n",
    "\n",
    "print(trainFG)"
   ]
  },
  {
   "cell_type": "markdown",
   "metadata": {},
   "source": [
    "모델 세팅"
   ]
  },
  {
   "cell_type": "code",
   "execution_count": 43,
   "metadata": {},
   "outputs": [
    {
     "name": "stdout",
     "output_type": "stream",
     "text": [
      "Model: \"sequential_7\"\n",
      "_________________________________________________________________\n",
      " Layer (type)                Output Shape              Param #   \n",
      "=================================================================\n",
      " flatten_7 (Flatten)         (None, 784)               0         \n",
      "                                                                 \n",
      " dense_14 (Dense)            (None, 512)               401920    \n",
      "                                                                 \n",
      " dropout_7 (Dropout)         (None, 512)               0         \n",
      "                                                                 \n",
      " dense_15 (Dense)            (None, 95)                48735     \n",
      "                                                                 \n",
      "=================================================================\n",
      "Total params: 450,655\n",
      "Trainable params: 450,655\n",
      "Non-trainable params: 0\n",
      "_________________________________________________________________\n"
     ]
    }
   ],
   "source": [
    "model = tf.keras.models.Sequential([\n",
    "    tf.keras.layers.Flatten(input_shape=(28,28)),\n",
    "    tf.keras.layers.Dense(512, activation='relu'),\n",
    "    tf.keras.layers.Dropout(0.2),\n",
    "    tf.keras.layers.Dense(95, activation='softmax')\n",
    "])\n",
    "\n",
    "model.compile(optimizer='adam',\n",
    "              loss='sparse_categorical_crossentropy',\n",
    "              metrics=['accuracy'])\n",
    "\n",
    "model.summary()"
   ]
  },
  {
   "cell_type": "markdown",
   "metadata": {},
   "source": [
    "훈련시키기"
   ]
  },
  {
   "cell_type": "code",
   "execution_count": 44,
   "metadata": {},
   "outputs": [
    {
     "name": "stdout",
     "output_type": "stream",
     "text": [
      "Epoch 1/5\n"
     ]
    },
    {
     "name": "stderr",
     "output_type": "stream",
     "text": [
      "2023-07-18 00:35:46.364680: I tensorflow/core/common_runtime/executor.cc:1197] [/device:CPU:0] (DEBUG INFO) Executor start aborting (this does not indicate an error and you can ignore this message): INVALID_ARGUMENT: You must feed a value for placeholder tensor 'Placeholder/_0' with dtype int32\n",
      "\t [[{{node Placeholder/_0}}]]\n"
     ]
    },
    {
     "name": "stdout",
     "output_type": "stream",
     "text": [
      "143/143 [==============================] - 3s 11ms/step - loss: 4.2566 - accuracy: 0.0919\n",
      "Epoch 2/5\n",
      "143/143 [==============================] - 1s 7ms/step - loss: 2.5973 - accuracy: 0.5011\n",
      "Epoch 3/5\n",
      "143/143 [==============================] - 1s 8ms/step - loss: 1.4829 - accuracy: 0.7081\n",
      "Epoch 4/5\n",
      "143/143 [==============================] - 1s 8ms/step - loss: 0.9086 - accuracy: 0.8407\n",
      "Epoch 5/5\n",
      "143/143 [==============================] - 1s 8ms/step - loss: 0.5820 - accuracy: 0.9151\n",
      "Epoch 1/5\n"
     ]
    },
    {
     "name": "stderr",
     "output_type": "stream",
     "text": [
      "2023-07-18 00:35:54.315022: I tensorflow/core/common_runtime/executor.cc:1197] [/device:CPU:0] (DEBUG INFO) Executor start aborting (this does not indicate an error and you can ignore this message): INVALID_ARGUMENT: You must feed a value for placeholder tensor 'Placeholder/_0' with dtype string and shape [4]\n",
      "\t [[{{node Placeholder/_0}}]]\n",
      "2023-07-18 00:35:54.316650: I tensorflow/core/common_runtime/executor.cc:1197] [/device:CPU:0] (DEBUG INFO) Executor start aborting (this does not indicate an error and you can ignore this message): INVALID_ARGUMENT: You must feed a value for placeholder tensor 'Placeholder/_4' with dtype int64 and shape [4]\n",
      "\t [[{{node Placeholder/_4}}]]\n"
     ]
    },
    {
     "name": "stdout",
     "output_type": "stream",
     "text": [
      "5453/5453 [==============================] - 90s 9ms/step - loss: 0.7772 - accuracy: 0.7699\n",
      "Epoch 2/5\n",
      "5453/5453 [==============================] - 53s 10ms/step - loss: 0.5333 - accuracy: 0.8209\n",
      "Epoch 3/5\n",
      "5453/5453 [==============================] - 57s 10ms/step - loss: 0.4953 - accuracy: 0.8307\n",
      "Epoch 4/5\n",
      "5453/5453 [==============================] - 47s 8ms/step - loss: 0.4758 - accuracy: 0.8353\n",
      "Epoch 5/5\n",
      "5453/5453 [==============================] - 48s 9ms/step - loss: 0.4637 - accuracy: 0.8383\n"
     ]
    },
    {
     "data": {
      "text/plain": [
       "<keras.callbacks.History at 0x15ac23c50>"
      ]
     },
     "execution_count": 44,
     "metadata": {},
     "output_type": "execute_result"
    }
   ],
   "source": [
    "model.fit(trainFG, epochs=5)\n",
    "\n",
    "model.fit(etfds_train, epochs=5)\n"
   ]
  },
  {
   "cell_type": "markdown",
   "metadata": {},
   "source": [
    "모델 저장하기"
   ]
  },
  {
   "cell_type": "code",
   "execution_count": 45,
   "metadata": {},
   "outputs": [],
   "source": [
    "model.save('spemnist.h5')"
   ]
  },
  {
   "cell_type": "markdown",
   "metadata": {},
   "source": [
    "확인하기"
   ]
  },
  {
   "cell_type": "code",
   "execution_count": 46,
   "metadata": {},
   "outputs": [
    {
     "name": "stderr",
     "output_type": "stream",
     "text": [
      "2023-07-18 00:41:48.496352: I tensorflow/core/common_runtime/executor.cc:1197] [/device:CPU:0] (DEBUG INFO) Executor start aborting (this does not indicate an error and you can ignore this message): INVALID_ARGUMENT: You must feed a value for placeholder tensor 'Placeholder/_0' with dtype string and shape [1]\n",
      "\t [[{{node Placeholder/_0}}]]\n",
      "2023-07-18 00:41:48.497303: I tensorflow/core/common_runtime/executor.cc:1197] [/device:CPU:0] (DEBUG INFO) Executor start aborting (this does not indicate an error and you can ignore this message): INVALID_ARGUMENT: You must feed a value for placeholder tensor 'Placeholder/_3' with dtype int64 and shape [1]\n",
      "\t [[{{node Placeholder/_3}}]]\n"
     ]
    },
    {
     "name": "stdout",
     "output_type": "stream",
     "text": [
      "909/909 - 11s - loss: 0.4468 - accuracy: 0.8446 - 11s/epoch - 13ms/step\n"
     ]
    },
    {
     "name": "stderr",
     "output_type": "stream",
     "text": [
      "2023-07-18 00:42:00.065410: I tensorflow/core/common_runtime/executor.cc:1197] [/device:CPU:0] (DEBUG INFO) Executor start aborting (this does not indicate an error and you can ignore this message): INVALID_ARGUMENT: You must feed a value for placeholder tensor 'Placeholder/_0' with dtype int32\n",
      "\t [[{{node Placeholder/_0}}]]\n"
     ]
    },
    {
     "name": "stdout",
     "output_type": "stream",
     "text": [
      "10/10 - 0s - loss: 10.1966 - accuracy: 0.0105 - 324ms/epoch - 32ms/step\n"
     ]
    },
    {
     "data": {
      "text/plain": [
       "[10.196556091308594, 0.010526316240429878]"
      ]
     },
     "execution_count": 46,
     "metadata": {},
     "output_type": "execute_result"
    }
   ],
   "source": [
    "model.evaluate(etfds_test, verbose=2)\n",
    "model.evaluate(testFG, verbose=2)"
   ]
  }
 ],
 "metadata": {
  "kernelspec": {
   "display_name": "Python 3",
   "language": "python",
   "name": "python3"
  },
  "language_info": {
   "codemirror_mode": {
    "name": "ipython",
    "version": 3
   },
   "file_extension": ".py",
   "mimetype": "text/x-python",
   "name": "python",
   "nbconvert_exporter": "python",
   "pygments_lexer": "ipython3",
   "version": "3.11.4"
  },
  "orig_nbformat": 4
 },
 "nbformat": 4,
 "nbformat_minor": 2
}
