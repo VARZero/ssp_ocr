{
 "cells": [
  {
   "cell_type": "code",
   "execution_count": 13,
   "metadata": {},
   "outputs": [],
   "source": [
    "import tensorflow as tf\n",
    "import tensorflow_datasets as tfds\n"
   ]
  },
  {
   "cell_type": "code",
   "execution_count": 14,
   "metadata": {},
   "outputs": [
    {
     "name": "stdout",
     "output_type": "stream",
     "text": [
      "tfds.core.DatasetInfo(\n",
      "    name='emnist',\n",
      "    full_name='emnist/byclass/3.0.0',\n",
      "    description=\"\"\"\n",
      "    The EMNIST dataset is a set of handwritten character digits derived from the NIST Special Database 19 and converted to a 28x28 pixel image format and dataset structure that directly matches the MNIST dataset.\n",
      "    \n",
      "    Note: Like the original EMNIST data, images provided here are inverted horizontally and rotated 90 anti-clockwise. You can use `tf.transpose` within `ds.map` to convert the images to a human-friendlier format.\n",
      "    \"\"\",\n",
      "    config_description=\"\"\"\n",
      "    EMNIST ByClass\n",
      "    \"\"\",\n",
      "    homepage='https://www.nist.gov/itl/products-and-services/emnist-dataset',\n",
      "    data_path='/Users/varzero/tensorflow_datasets/emnist/byclass/3.0.0',\n",
      "    file_format=tfrecord,\n",
      "    download_size=535.73 MiB,\n",
      "    dataset_size=349.16 MiB,\n",
      "    features=FeaturesDict({\n",
      "        'image': Image(shape=(28, 28, 1), dtype=uint8),\n",
      "        'label': ClassLabel(shape=(), dtype=int64, num_classes=62),\n",
      "    }),\n",
      "    supervised_keys=('image', 'label'),\n",
      "    disable_shuffling=False,\n",
      "    splits={\n",
      "        'test': <SplitInfo num_examples=116323, num_shards=1>,\n",
      "        'train': <SplitInfo num_examples=697932, num_shards=4>,\n",
      "    },\n",
      "    citation=\"\"\"@article{cohen_afshar_tapson_schaik_2017,\n",
      "        title={EMNIST: Extending MNIST to handwritten letters},\n",
      "        DOI={10.1109/ijcnn.2017.7966217},\n",
      "        journal={2017 International Joint Conference on Neural Networks (IJCNN)},\n",
      "        author={Cohen, Gregory and Afshar, Saeed and Tapson, Jonathan and Schaik, Andre Van},\n",
      "        year={2017}\n",
      "    }\"\"\",\n",
      ")\n",
      "<_PrefetchDataset element_spec=(TensorSpec(shape=(28, 28, 1), dtype=tf.uint8, name=None), TensorSpec(shape=(), dtype=tf.int64, name=None))>\n",
      "<_PrefetchDataset element_spec=(TensorSpec(shape=(None, 28, 28, 1), dtype=tf.float32, name=None), TensorSpec(shape=(None,), dtype=tf.int64, name=None))>\n"
     ]
    }
   ],
   "source": [
    "(etfds_train, etfds_test), etfds_info = tfds.load(\"emnist\", split=['train', 'test'], shuffle_files=True, as_supervised=True, with_info=True)\n",
    "print(etfds_info)\n",
    "print(etfds_train)\n",
    "\n",
    "def normalize_img_ascii_lable(image, label):\n",
    "    ascii_Lb = label\n",
    "    if ascii_Lb >= 10:\n",
    "        ascii_Lb += 8\n",
    "    elif ascii_Lb >= 43:\n",
    "        ascii_Lb += 6\n",
    "    ascii_Lb += 15\n",
    "    return tf.cast(image, tf.float32) / 255., ascii_Lb\n",
    "\n",
    "etfds_train = etfds_train.map(normalize_img_ascii_lable, num_parallel_calls=tf.data.experimental.AUTOTUNE)\n",
    "etfds_train = etfds_train.cache()\n",
    "etfds_train = etfds_train.shuffle(etfds_info.splits['train'].num_examples)\n",
    "etfds_train = etfds_train.batch(128)\n",
    "etfds_train = etfds_train.prefetch(tf.data.experimental.AUTOTUNE)\n",
    "print(etfds_train)\n",
    "\n",
    "etfds_test = etfds_test.map(normalize_img_ascii_lable, num_parallel_calls=tf.data.experimental.AUTOTUNE)\n",
    "etfds_test = etfds_test.batch(128)\n",
    "etfds_test = etfds_test.cache()\n",
    "etfds_test = etfds_test.prefetch(tf.data.experimental.AUTOTUNE)"
   ]
  },
  {
   "cell_type": "code",
   "execution_count": 15,
   "metadata": {},
   "outputs": [
    {
     "name": "stdout",
     "output_type": "stream",
     "text": [
      "Found 1520 files belonging to 95 classes.\n",
      "Using 1216 files for training.\n",
      "Found 1520 files belonging to 95 classes.\n",
      "Using 304 files for validation.\n",
      "<_PrefetchDataset element_spec=(TensorSpec(shape=(None, 28, 28, 1), dtype=tf.float32, name=None), TensorSpec(shape=(None,), dtype=tf.int64, name=None))>\n"
     ]
    }
   ],
   "source": [
    "import pathlib\n",
    "\n",
    "data_dir = pathlib.Path('../dataset')\n",
    "\n",
    "trainFG = tf.keras.preprocessing.image_dataset_from_directory(\n",
    "    data_dir,\n",
    "    validation_split=0.2,\n",
    "    subset='training',\n",
    "    seed=123,\n",
    "    image_size=(28,28),\n",
    "    batch_size=16,\n",
    "    label_mode='int',\n",
    "    color_mode=\"grayscale\"\n",
    ")\n",
    "\n",
    "testFG = tf.keras.preprocessing.image_dataset_from_directory(\n",
    "    data_dir,\n",
    "    validation_split=0.2,\n",
    "    subset='validation',\n",
    "    seed=123,\n",
    "    image_size=(28,28),\n",
    "    batch_size=16,\n",
    "    label_mode='int',\n",
    "    color_mode=\"grayscale\"\n",
    ")\n",
    "\n",
    "def normalize_myimg_ascii_lable(image, label):\n",
    "    return tf.cast(image, tf.float32) / 255., tf.cast(int(label), dtype=tf.int64)\n",
    "\n",
    "trainFG = trainFG.map(normalize_myimg_ascii_lable, num_parallel_calls=tf.data.experimental.AUTOTUNE)\n",
    "trainFG = trainFG.cache()\n",
    "trainFG = trainFG.prefetch(tf.data.experimental.AUTOTUNE)\n",
    "print(trainFG)\n",
    "\n",
    "testFG = testFG.map(normalize_myimg_ascii_lable, num_parallel_calls=tf.data.experimental.AUTOTUNE)\n",
    "testFG = testFG.cache()\n",
    "testFG = testFG.prefetch(tf.data.experimental.AUTOTUNE)\n"
   ]
  },
  {
   "cell_type": "code",
   "execution_count": 16,
   "metadata": {},
   "outputs": [
    {
     "name": "stdout",
     "output_type": "stream",
     "text": [
      "Model: \"sequential_2\"\n",
      "_________________________________________________________________\n",
      " Layer (type)                Output Shape              Param #   \n",
      "=================================================================\n",
      " conv2d_6 (Conv2D)           (None, 26, 26, 32)        320       \n",
      "                                                                 \n",
      " max_pooling2d_6 (MaxPoolin  (None, 13, 13, 32)        0         \n",
      " g2D)                                                            \n",
      "                                                                 \n",
      " conv2d_7 (Conv2D)           (None, 11, 11, 64)        18496     \n",
      "                                                                 \n",
      " max_pooling2d_7 (MaxPoolin  (None, 5, 5, 64)          0         \n",
      " g2D)                                                            \n",
      "                                                                 \n",
      " conv2d_8 (Conv2D)           (None, 3, 3, 64)          36928     \n",
      "                                                                 \n",
      " max_pooling2d_8 (MaxPoolin  (None, 1, 1, 64)          0         \n",
      " g2D)                                                            \n",
      "                                                                 \n",
      " flatten_2 (Flatten)         (None, 64)                0         \n",
      "                                                                 \n",
      " dense_4 (Dense)             (None, 64)                4160      \n",
      "                                                                 \n",
      " dense_5 (Dense)             (None, 95)                6175      \n",
      "                                                                 \n",
      "=================================================================\n",
      "Total params: 66079 (258.12 KB)\n",
      "Trainable params: 66079 (258.12 KB)\n",
      "Non-trainable params: 0 (0.00 Byte)\n",
      "_________________________________________________________________\n"
     ]
    }
   ],
   "source": [
    "model = tf.keras.models.Sequential([\n",
    "    tf.keras.layers.Conv2D(32, (3, 3), activation='relu',  input_shape=(28,28,1)),\n",
    "    tf.keras.layers.MaxPooling2D((2, 2)),\n",
    "    tf.keras.layers.Conv2D(64, (3, 3), activation='relu'),\n",
    "    tf.keras.layers.MaxPooling2D((2, 2)),\n",
    "    tf.keras.layers.Conv2D(64, (3,3), activation='relu'),\n",
    "    tf.keras.layers.MaxPooling2D((2, 2)),\n",
    "\n",
    "    tf.keras.layers.Flatten(),\n",
    "    tf.keras.layers.Dense(64, activation='relu'),\n",
    "    tf.keras.layers.Dense(95, activation='softmax')\n",
    "])\n",
    "\n",
    "model.summary()"
   ]
  },
  {
   "cell_type": "code",
   "execution_count": 17,
   "metadata": {},
   "outputs": [],
   "source": [
    "model.compile(optimizer='adam',\n",
    "              loss='sparse_categorical_crossentropy',\n",
    "              metrics=['accuracy'])"
   ]
  },
  {
   "cell_type": "code",
   "execution_count": 18,
   "metadata": {},
   "outputs": [
    {
     "name": "stdout",
     "output_type": "stream",
     "text": [
      "Epoch 1/3\n",
      "5453/5453 [==============================] - 389s 64ms/step - loss: 0.7456 - accuracy: 0.7641\n",
      "Epoch 2/3\n",
      "5453/5453 [==============================] - 353s 65ms/step - loss: 0.5054 - accuracy: 0.8246\n",
      "Epoch 3/3\n",
      "5453/5453 [==============================] - 354s 65ms/step - loss: 0.4646 - accuracy: 0.8362\n",
      "Epoch 1/25\n",
      "76/76 [==============================] - 1s 12ms/step - loss: 4.9048 - accuracy: 0.0173\n",
      "Epoch 2/25\n",
      "76/76 [==============================] - 1s 10ms/step - loss: 3.9361 - accuracy: 0.0789\n",
      "Epoch 3/25\n",
      "76/76 [==============================] - 1s 12ms/step - loss: 2.9748 - accuracy: 0.2286\n",
      "Epoch 4/25\n",
      "76/76 [==============================] - 1s 10ms/step - loss: 2.1570 - accuracy: 0.3824\n",
      "Epoch 5/25\n",
      "76/76 [==============================] - 1s 10ms/step - loss: 1.6351 - accuracy: 0.5156\n",
      "Epoch 6/25\n",
      "76/76 [==============================] - 1s 10ms/step - loss: 1.2898 - accuracy: 0.6118\n",
      "Epoch 7/25\n",
      "76/76 [==============================] - 1s 10ms/step - loss: 1.0448 - accuracy: 0.6793\n",
      "Epoch 8/25\n",
      "76/76 [==============================] - 1s 10ms/step - loss: 0.8716 - accuracy: 0.7401\n",
      "Epoch 9/25\n",
      "76/76 [==============================] - 1s 10ms/step - loss: 0.7402 - accuracy: 0.7706\n",
      "Epoch 10/25\n",
      "76/76 [==============================] - 1s 10ms/step - loss: 0.6809 - accuracy: 0.7854\n",
      "Epoch 11/25\n",
      "76/76 [==============================] - 1s 11ms/step - loss: 0.5424 - accuracy: 0.8232\n",
      "Epoch 12/25\n",
      "76/76 [==============================] - 1s 11ms/step - loss: 0.4101 - accuracy: 0.8766\n",
      "Epoch 13/25\n",
      "76/76 [==============================] - 1s 10ms/step - loss: 0.3123 - accuracy: 0.9169\n",
      "Epoch 14/25\n",
      "76/76 [==============================] - 1s 11ms/step - loss: 0.2527 - accuracy: 0.9375\n",
      "Epoch 15/25\n",
      "76/76 [==============================] - 1s 10ms/step - loss: 0.2076 - accuracy: 0.9465\n",
      "Epoch 16/25\n",
      "76/76 [==============================] - 1s 11ms/step - loss: 0.1798 - accuracy: 0.9531\n",
      "Epoch 17/25\n",
      "76/76 [==============================] - 1s 10ms/step - loss: 0.1594 - accuracy: 0.9605\n",
      "Epoch 18/25\n",
      "76/76 [==============================] - 1s 10ms/step - loss: 0.1439 - accuracy: 0.9589\n",
      "Epoch 19/25\n",
      "76/76 [==============================] - 1s 10ms/step - loss: 0.1286 - accuracy: 0.9655\n",
      "Epoch 20/25\n",
      "76/76 [==============================] - 1s 11ms/step - loss: 0.1175 - accuracy: 0.9663\n",
      "Epoch 21/25\n",
      "76/76 [==============================] - 1s 11ms/step - loss: 0.1078 - accuracy: 0.9712\n",
      "Epoch 22/25\n",
      "76/76 [==============================] - 1s 10ms/step - loss: 0.0956 - accuracy: 0.9696\n",
      "Epoch 23/25\n",
      "76/76 [==============================] - 1s 15ms/step - loss: 0.0853 - accuracy: 0.9720\n",
      "Epoch 24/25\n",
      "76/76 [==============================] - 1s 15ms/step - loss: 0.0777 - accuracy: 0.9737\n",
      "Epoch 25/25\n",
      "76/76 [==============================] - 1s 14ms/step - loss: 0.0729 - accuracy: 0.9737\n"
     ]
    },
    {
     "data": {
      "text/plain": [
       "<keras.src.callbacks.History at 0x16da5c790>"
      ]
     },
     "execution_count": 18,
     "metadata": {},
     "output_type": "execute_result"
    }
   ],
   "source": [
    "model.fit(etfds_train, epochs=3)\n",
    "model.fit(trainFG, epochs=25)"
   ]
  },
  {
   "cell_type": "code",
   "execution_count": 19,
   "metadata": {},
   "outputs": [],
   "source": [
    "model.save('cnnEmnist.keras')"
   ]
  },
  {
   "cell_type": "code",
   "execution_count": 20,
   "metadata": {},
   "outputs": [
    {
     "name": "stdout",
     "output_type": "stream",
     "text": [
      "909/909 - 20s - loss: 20.8091 - accuracy: 0.0501 - 20s/epoch - 22ms/step\n",
      "19/19 - 0s - loss: 2.0615 - accuracy: 0.6382 - 194ms/epoch - 10ms/step\n"
     ]
    },
    {
     "data": {
      "text/plain": [
       "[2.0615291595458984, 0.6381579041481018]"
      ]
     },
     "execution_count": 20,
     "metadata": {},
     "output_type": "execute_result"
    }
   ],
   "source": [
    "model.evaluate(etfds_test, verbose=2)\n",
    "model.evaluate(testFG, verbose=2)"
   ]
  }
 ],
 "metadata": {
  "kernelspec": {
   "display_name": "Python 3",
   "language": "python",
   "name": "python3"
  },
  "language_info": {
   "codemirror_mode": {
    "name": "ipython",
    "version": 3
   },
   "file_extension": ".py",
   "mimetype": "text/x-python",
   "name": "python",
   "nbconvert_exporter": "python",
   "pygments_lexer": "ipython3",
   "version": "3.11.4"
  },
  "orig_nbformat": 4
 },
 "nbformat": 4,
 "nbformat_minor": 2
}
